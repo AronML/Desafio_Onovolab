{
 "cells": [
  {
   "cell_type": "markdown",
   "metadata": {},
   "source": [
    "# Ciência de Dados\n",
    "\n",
    "## Importação dos arquivos\n",
    "\n",
    "Inicialmente os arquivos disponibilizados foram importados, e preprocessados com objetivo de substituição das células vazias, que causam problemas aos modelos. Os campos do tipo String foram substituidos por \"Not Informed\" e os numéricos por -1.Conforme o código a seguir: "
   ]
  },
  {
   "cell_type": "code",
   "execution_count": 5,
   "metadata": {},
   "outputs": [],
   "source": [
    "import pandas as pd\n",
    "\n",
    "credito = pd.read_csv('dataset.csv')\n",
    "\n",
    "credito[\"Gender\"].fillna(\"NotInformed\", inplace = True)\n",
    "credito[\"Married\"].fillna(\"NotInformed\", inplace = True)\n",
    "credito[\"Dependents\"].fillna(\"NotInformed\", inplace = True)\n",
    "credito[\"Education\"].fillna(\"NotInformed\", inplace = True)\n",
    "credito[\"Education\"].fillna(\"NotInformed\", inplace = True)\n",
    "credito[\"Self_Employed\"].fillna(\"NotInformed\", inplace = True)\n",
    "credito[\"Property_Area\"].fillna(\"NotInformed\", inplace = True)\n",
    "credito[\"Credit_History\"].fillna(-1, inplace = True)\n",
    "credito[\"ApplicantIncome\"].fillna(-1, inplace = True)\n",
    "credito[\"CoapplicantIncome\"].fillna(-1, inplace = True)\n",
    "credito[\"LoanAmount\"].fillna(-1, inplace = True)\n",
    "credito[\"Loan_Amount_Term\"].fillna(-1, inplace = True)"
   ]
  },
  {
   "cell_type": "markdown",
   "metadata": {},
   "source": [
    "## Preprocessamento\n",
    "\n",
    "Foram delimitados os atributos necessários para a previsão, onde o campo Loan_Id foi retirado já que é apenas um atributo identificador não relevante para a classificação Foi apontada a classe objetivo (Loan_Status) e utilizando a biblioteca Sklearn LabelEncoder foi realizada a transformação dos atributos textuais para numericos para a utilização dos modelos."
   ]
  },
  {
   "cell_type": "code",
   "execution_count": 6,
   "metadata": {},
   "outputs": [],
   "source": [
    "previsores = credito.iloc[:,1:12].values\n",
    "classe = credito.iloc[:,12].values\n",
    "\n",
    "from sklearn.preprocessing import LabelEncoder\n",
    "labelencoder = LabelEncoder() \n",
    "\n",
    "previsores[:,0] = labelencoder.fit_transform(previsores[:,0]) \n",
    "previsores[:,1] = labelencoder.fit_transform(previsores[:,1]) \n",
    "previsores[:,2] = labelencoder.fit_transform(previsores[:,2]) \n",
    "previsores[:,3] = labelencoder.fit_transform(previsores[:,3]) \n",
    "previsores[:,4] = labelencoder.fit_transform(previsores[:,4]) \n",
    "previsores[:,8] = labelencoder.fit_transform(previsores[:,8]) \n",
    "previsores[:,9] = labelencoder.fit_transform(previsores[:,9]) \n",
    "previsores[:,10] = labelencoder.fit_transform(previsores[:,10]) \n",
    "\n",
    "classe = labelencoder.fit_transform(classe)"
   ]
  },
  {
   "cell_type": "markdown",
   "metadata": {},
   "source": [
    "Para a separação de dados para a criação e validação dos modelos foi utilizada a biblioteca do sklearn, train_test_split utilizou-se uma taxa de 30% dos dados para validação com seleção aleatória. En seguida o atributo LoanAmount foi retirado da amostra de treinamento eseparado como um atributo a ser encontrado (amount_trenamento, amount_teste)."
   ]
  },
  {
   "cell_type": "code",
   "execution_count": 7,
   "metadata": {},
   "outputs": [],
   "source": [
    "\n",
    "from sklearn.model_selection import train_test_split\n",
    "\n",
    "X_treinamento, X_teste, y_treinamento, y_teste = train_test_split(previsores,\n",
    "                                                                  classe, \n",
    "                                                                  test_size = 0.3,\n",
    "                                                                  random_state = 0)\n",
    "amount_treinamento = X_treinamento[:,[7]]\n",
    "amount_teste = X_teste[:,[7]]\n",
    "\n",
    "X_treinamento = X_treinamento[:,[0,1,2,3,4,5,6,8,9,10]]\n",
    "X_teste = X_teste[:,[0,1,2,3,4,5,6,8,9,10]]\n"
   ]
  },
  {
   "cell_type": "markdown",
   "metadata": {},
   "source": [
    "## Classificação pagamento ou não pagamento da dívida\n",
    "\n",
    "Para a criação do modelo de previsão de pagamento ou não da dívida foi comparado 3 algoritmos (Naive Bayes, SVM - Suport Verctor Machine e Randon Forest) como mostra o código a seguir"
   ]
  },
  {
   "cell_type": "code",
   "execution_count": 8,
   "metadata": {},
   "outputs": [
    {
     "name": "stderr",
     "output_type": "stream",
     "text": [
      "C:\\Users\\aron\\Anaconda3\\lib\\site-packages\\sklearn\\svm\\base.py:193: FutureWarning: The default value of gamma will change from 'auto' to 'scale' in version 0.22 to account better for unscaled features. Set gamma explicitly to 'auto' or 'scale' to avoid this warning.\n",
      "  \"avoid this warning.\", FutureWarning)\n"
     ]
    }
   ],
   "source": [
    "from sklearn.naive_bayes import GaussianNB\n",
    "from sklearn.metrics import confusion_matrix, accuracy_score\n",
    "from sklearn.svm import SVC\n",
    "from sklearn.ensemble import RandomForestClassifier\n",
    "\n",
    "\n",
    "###############################################################################\n",
    "#                                Naive Bayes\n",
    "###############################################################################\n",
    "naive_bayes = GaussianNB()\n",
    "naive_bayes.fit(X_treinamento, y_treinamento)\n",
    "\n",
    "previsoes = naive_bayes.predict(X_teste)\n",
    "\n",
    "confusao = confusion_matrix(y_teste, previsoes)\n",
    "\n",
    "taxaacerto = accuracy_score(y_teste, previsoes)\n",
    "###############################################################################\n",
    "#                                SVM\n",
    "###############################################################################\n",
    "svm = SVC()\n",
    "svm.fit(X_treinamento, y_treinamento)\n",
    "previsoes2 = svm.predict(X_teste)\n",
    "confusao2 = confusion_matrix(y_teste, previsoes2)\n",
    "taxa_acerto2 = accuracy_score(y_teste, previsoes)\n",
    "\n",
    "###############################################################################\n",
    "#                                Random Forest\n",
    "###############################################################################\n",
    "\n",
    "floresta = RandomForestClassifier(n_estimators = 100)\n",
    "floresta.fit(X_treinamento, y_treinamento)\n",
    "\n",
    "\n",
    "previsoes4 = floresta.predict(X_teste)\n",
    "\n",
    "matriz4 = confusion_matrix(y_teste, previsoes4)\n",
    "taxa_acerto4 = accuracy_score(y_teste, previsoes4)\n",
    "\n"
   ]
  },
  {
   "cell_type": "code",
   "execution_count": 11,
   "metadata": {},
   "outputs": [
    {
     "data": {
      "text/plain": [
       "array([[  6,  45],\n",
       "       [ 14, 120]], dtype=int64)"
      ]
     },
     "execution_count": 11,
     "metadata": {},
     "output_type": "execute_result"
    }
   ],
   "source": [
    "confusao"
   ]
  },
  {
   "cell_type": "code",
   "execution_count": 12,
   "metadata": {},
   "outputs": [
    {
     "data": {
      "text/plain": [
       "0.6810810810810811"
      ]
     },
     "execution_count": 12,
     "metadata": {},
     "output_type": "execute_result"
    }
   ],
   "source": [
    "taxaacerto"
   ]
  },
  {
   "cell_type": "code",
   "execution_count": 13,
   "metadata": {},
   "outputs": [
    {
     "data": {
      "text/plain": [
       "array([[  4,  47],\n",
       "       [  1, 133]], dtype=int64)"
      ]
     },
     "execution_count": 13,
     "metadata": {},
     "output_type": "execute_result"
    }
   ],
   "source": [
    "confusao2"
   ]
  },
  {
   "cell_type": "code",
   "execution_count": 14,
   "metadata": {},
   "outputs": [
    {
     "data": {
      "text/plain": [
       "0.6810810810810811"
      ]
     },
     "execution_count": 14,
     "metadata": {},
     "output_type": "execute_result"
    }
   ],
   "source": [
    "taxa_acerto2"
   ]
  },
  {
   "cell_type": "code",
   "execution_count": 15,
   "metadata": {},
   "outputs": [
    {
     "data": {
      "text/plain": [
       "array([[ 26,  25],\n",
       "       [ 13, 121]], dtype=int64)"
      ]
     },
     "execution_count": 15,
     "metadata": {},
     "output_type": "execute_result"
    }
   ],
   "source": [
    "matriz4"
   ]
  },
  {
   "cell_type": "code",
   "execution_count": 16,
   "metadata": {},
   "outputs": [
    {
     "data": {
      "text/plain": [
       "0.7945945945945946"
      ]
     },
     "execution_count": 16,
     "metadata": {},
     "output_type": "execute_result"
    }
   ],
   "source": [
    "taxa_acerto4"
   ]
  },
  {
   "cell_type": "markdown",
   "metadata": {},
   "source": [
    "Dessa forma pode-se observar que o algoritmo RandomForest apresentou um melhor performance, como objetivo de melhorar esta, foi utilizado a biblioteca ExtraTreesclassifier para identificação de importâncias de cada feature na classificação. Indentificou-se que a caracteristicas Gender: gênero, Married: casado ou não casado, Education: grau de escolaridade Self_Employed: se a pessoa é autônoma possuem menor influência na classificação."
   ]
  },
  {
   "cell_type": "code",
   "execution_count": 18,
   "metadata": {},
   "outputs": [],
   "source": [
    "from sklearn.ensemble import ExtraTreesClassifier\n",
    "forest = ExtraTreesClassifier(n_estimators = 100)\n",
    "forest.fit(X_treinamento,y_treinamento)\n",
    "\n",
    "importancias = forest.feature_importances_"
   ]
  },
  {
   "cell_type": "code",
   "execution_count": 19,
   "metadata": {},
   "outputs": [
    {
     "data": {
      "text/plain": [
       "array([0.04348321, 0.02435783, 0.08234264, 0.02293978, 0.045099  ,\n",
       "       0.26132929, 0.15416317, 0.05140683, 0.25166989, 0.06320837])"
      ]
     },
     "execution_count": 19,
     "metadata": {},
     "output_type": "execute_result"
    }
   ],
   "source": [
    "importancias"
   ]
  },
  {
   "cell_type": "markdown",
   "metadata": {},
   "source": [
    "Removendo as caracteristicas de menor influência na tentativa de melhores resultados, obteve-se taxa de acerto de 80%:"
   ]
  },
  {
   "cell_type": "code",
   "execution_count": 20,
   "metadata": {},
   "outputs": [],
   "source": [
    "X_treinamento2 = X_treinamento [:,[2,5,6,7,8,9]]\n",
    "X_teste2 = X_teste[:,[2,5,6,7,8,9]]\n",
    "\n",
    "floresta2 = RandomForestClassifier(n_estimators = 100)\n",
    "floresta2.fit(X_treinamento2, y_treinamento)\n",
    "\n",
    "# Previsões\n",
    "previsoes5 = floresta2.predict(X_teste2)\n",
    "\n",
    "matriz5 = confusion_matrix(y_teste, previsoes5)\n",
    "taxa_acerto5 = accuracy_score(y_teste, previsoes5)"
   ]
  },
  {
   "cell_type": "code",
   "execution_count": 21,
   "metadata": {},
   "outputs": [
    {
     "data": {
      "text/plain": [
       "array([[ 30,  21],\n",
       "       [ 16, 118]], dtype=int64)"
      ]
     },
     "execution_count": 21,
     "metadata": {},
     "output_type": "execute_result"
    }
   ],
   "source": [
    "matriz5"
   ]
  },
  {
   "cell_type": "code",
   "execution_count": 22,
   "metadata": {},
   "outputs": [
    {
     "data": {
      "text/plain": [
       "0.8"
      ]
     },
     "execution_count": 22,
     "metadata": {},
     "output_type": "execute_result"
    }
   ],
   "source": [
    "taxa_acerto5"
   ]
  },
  {
   "cell_type": "markdown",
   "metadata": {},
   "source": [
    "## Quatidade de empréstimo\n",
    "\n",
    "Para determinação de quanto emprestar ao cliente, foi utilizada uma Multilayer Perceptron como regressor ou aproximador de funções. Como mostra o algoritmo abaixo:"
   ]
  },
  {
   "cell_type": "code",
   "execution_count": 23,
   "metadata": {},
   "outputs": [
    {
     "name": "stdout",
     "output_type": "stream",
     "text": [
      "Iteration 1, loss = 37518.03047936\n",
      "Iteration 2, loss = 14484.02722577\n",
      "Iteration 3, loss = 7230.18905849\n",
      "Iteration 4, loss = 7060.96688060\n",
      "Iteration 5, loss = 8304.57075488\n",
      "Iteration 6, loss = 8041.39951544\n",
      "Iteration 7, loss = 7194.65688460\n",
      "Iteration 8, loss = 6354.55327986\n",
      "Iteration 9, loss = 5784.51850279\n",
      "Iteration 10, loss = 4972.07947537\n",
      "Iteration 11, loss = 4231.18926994\n",
      "Iteration 12, loss = 4173.52018798\n",
      "Iteration 13, loss = 4643.43573795\n",
      "Iteration 14, loss = 4800.14049842\n",
      "Iteration 15, loss = 4434.89766325\n",
      "Iteration 16, loss = 3985.68409823\n",
      "Iteration 17, loss = 4171.85753081\n",
      "Iteration 18, loss = 4408.64265253\n",
      "Iteration 19, loss = 4173.87437092\n",
      "Iteration 20, loss = 3749.19967897\n",
      "Iteration 21, loss = 3749.39583748\n",
      "Iteration 22, loss = 3821.38679588\n",
      "Iteration 23, loss = 3735.01760825\n",
      "Iteration 24, loss = 3698.20585445\n",
      "Iteration 25, loss = 3687.37872404\n",
      "Iteration 26, loss = 3644.97089784\n",
      "Iteration 27, loss = 3624.03234708\n",
      "Iteration 28, loss = 3587.45446561\n",
      "Iteration 29, loss = 3488.62738482\n",
      "Iteration 30, loss = 3457.55275603\n",
      "Iteration 31, loss = 3465.23853420\n",
      "Iteration 32, loss = 3440.47099038\n",
      "Iteration 33, loss = 3459.76101918\n",
      "Iteration 34, loss = 3446.60816853\n",
      "Iteration 35, loss = 3481.53786463\n",
      "Iteration 36, loss = 3482.70317318\n",
      "Iteration 37, loss = 3402.72687066\n",
      "Iteration 38, loss = 3555.77450918\n",
      "Iteration 39, loss = 3841.49436010\n",
      "Iteration 40, loss = 3310.00302250\n",
      "Iteration 41, loss = 5463.93989994\n",
      "Iteration 42, loss = 6101.08264440\n",
      "Iteration 43, loss = 4239.76226711\n",
      "Iteration 44, loss = 3778.65891673\n",
      "Iteration 45, loss = 4806.76626836\n",
      "Iteration 46, loss = 4757.89752183\n",
      "Iteration 47, loss = 3787.60740808\n",
      "Iteration 48, loss = 3474.98464339\n",
      "Iteration 49, loss = 3788.37521505\n",
      "Iteration 50, loss = 3606.91168099\n",
      "Iteration 51, loss = 3368.43074843\n",
      "Training loss did not improve more than tol=0.000100 for 10 consecutive epochs. Stopping.\n"
     ]
    },
    {
     "name": "stderr",
     "output_type": "stream",
     "text": [
      "C:\\Users\\aron\\Anaconda3\\lib\\site-packages\\sklearn\\neural_network\\multilayer_perceptron.py:1321: DataConversionWarning: A column-vector y was passed when a 1d array was expected. Please change the shape of y to (n_samples, ), for example using ravel().\n",
      "  y = column_or_1d(y, warn=True)\n"
     ]
    }
   ],
   "source": [
    "from sklearn.neural_network import MLPRegressor\n",
    "import matplotlib.pyplot as plt\n",
    "\n",
    "\n",
    "clf = MLPRegressor(alpha=0.1, hidden_layer_sizes = (30,), max_iter = 50000, \n",
    "                 activation = 'relu', verbose = 'True', learning_rate = 'adaptive')\n",
    "clf.fit(X_treinamento, amount_treinamento)\n",
    "\n",
    "pred_y = clf.predict(X_teste)"
   ]
  },
  {
   "cell_type": "markdown",
   "metadata": {},
   "source": [
    "Dessa forma temos os valores previstos em vermelho e os reais em azul, na imagem a seguir:"
   ]
  },
  {
   "cell_type": "code",
   "execution_count": 24,
   "metadata": {},
   "outputs": [
    {
     "data": {
      "image/png": "[encoded data removed]",
      "text/plain": [
       "<Figure size 432x288 with 1 Axes>"
      ]
     },
     "metadata": {
      "needs_background": "light"
     },
     "output_type": "display_data"
    }
   ],
   "source": [
    "t = len(pred_y)\n",
    "for i in range(t):\n",
    "    plt.plot(i,pred_y[i,],'r*-',i, amount_teste[i,],'bo-')"
   ]
  },
  {
   "cell_type": "markdown",
   "metadata": {},
   "source": [
    "Para os 20 primeiros pontos temos a imagem a seguir, pode-se observar que apenas para alguns pontos o Regressor consegue aproximar fielmente, isso se dá pela dificuldade de calibrar o modelo para esse tipo de tarefa com precisão, sendo necessário muito tempo para identificar um padrão:"
   ]
  },
  {
   "cell_type": "code",
   "execution_count": 25,
   "metadata": {},
   "outputs": [
    {
     "data": {
      "image/png": "[encoded data removed]",
      "text/plain": [
       "<Figure size 432x288 with 1 Axes>"
      ]
     },
     "metadata": {
      "needs_background": "light"
     },
     "output_type": "display_data"
    }
   ],
   "source": [
    "t = 20\n",
    "for i in range(t):\n",
    "    plt.plot(i,pred_y[i,],'r*-',i, amount_teste[i,],'bo-')"
   ]
  },
  {
   "cell_type": "markdown",
   "metadata": {},
   "source": [
    "# Serialização \n",
    "\n",
    "Para a serialização dos modelos foi utilizada a biblioteca pickle, dessa forma os modelos validados podem ser consumidos pela API"
   ]
  },
  {
   "cell_type": "code",
   "execution_count": 27,
   "metadata": {},
   "outputs": [],
   "source": [
    "import pickle\n",
    "# save the model to disk\n",
    "filename = 'floresta_credit_model.sav'\n",
    "pickle.dump(floresta2, open(filename, 'wb'))\n",
    "\n",
    "filename2 = 'MLPRegressor_credit_model.sav'\n",
    "pickle.dump(clf, open(filename2, 'wb'))"
   ]
  }
 ],
 "metadata": {
  "kernelspec": {
   "display_name": "Python 3",
   "language": "python",
   "name": "python3"
  },
  "language_info": {
   "codemirror_mode": {
    "name": "ipython",
    "version": 3
   },
   "file_extension": ".py",
   "mimetype": "text/x-python",
   "name": "python",
   "nbconvert_exporter": "python",
   "pygments_lexer": "ipython3",
   "version": "3.7.3"
  }
 },
 "nbformat": 4,
 "nbformat_minor": 2
}
